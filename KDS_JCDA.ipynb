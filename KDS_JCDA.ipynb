{
    "cells": [
        {
            "cell_type": "code",
            "execution_count": 13,
            "source": [
                "import pandas as pd\r\n",
                "import numpy as np\r\n",
                "import sklearn as sk\r\n",
                "import matplotlib as mpl\r\n",
                "\r\n",
                "# Visualisation\r\n",
                "import matplotlib.pyplot as plt\r\n",
                "import matplotlib.pylab as pylab\r\n",
                "\r\n",
                "credit_reports = pd.read_csv(\"credit_reports.csv\")\r\n",
                "users = pd.read_csv(\"users.csv\")\r\n",
                "#credit_reports.head()\r\n",
                "#users.head()\r\n",
                "print(\"Shapes of credit reports & users\\n\")\r\n",
                "print(credit_reports.shape)\r\n",
                "print(users.shape)\r\n",
                "print(\"Data types of credit reports\")\r\n",
                "print(credit_reports.dtypes)\r\n",
                "print(\"Data types of users\")\r\n",
                "print(users.dtypes)"
            ],
            "outputs": [
                {
                    "output_type": "stream",
                    "name": "stdout",
                    "text": [
                        "Shapes of credit reports & users\n",
                        "\n",
                        "(16309, 17)\n",
                        "(1000, 4)\n",
                        "Data types of credit reports\n",
                        "user_id                                 int64\n",
                        "institution                            object\n",
                        "account_type                           object\n",
                        "credit_type                            object\n",
                        "total_credit_payments                 float64\n",
                        "payment_frequency                      object\n",
                        "amount_to_pay_next_payment            float64\n",
                        "account_opening_date                   object\n",
                        "account_closing_date                   object\n",
                        "maximum_credit_amount                 float64\n",
                        "current_balance                       float64\n",
                        "credit_limit                          float64\n",
                        "past_due_balance                      float64\n",
                        "number_of_payments_due                float64\n",
                        "worst_delinquency                     float64\n",
                        "worst_delinquency_date                 object\n",
                        "worst_delinquency_past_due_balance    float64\n",
                        "dtype: object\n",
                        "Data types of users\n",
                        "id                 int64\n",
                        "monthly_income     int64\n",
                        "monthly_outcome    int64\n",
                        "class              int64\n",
                        "dtype: object\n"
                    ]
                }
            ],
            "metadata": {}
        }
    ],
    "metadata": {
        "orig_nbformat": 4,
        "language_info": {
            "name": "python",
            "version": "3.9.6",
            "mimetype": "text/x-python",
            "codemirror_mode": {
                "name": "ipython",
                "version": 3
            },
            "pygments_lexer": "ipython3",
            "nbconvert_exporter": "python",
            "file_extension": ".py"
        },
        "kernelspec": {
            "name": "python3",
            "display_name": "Python 3.9.6 64-bit ('KDS': conda)"
        },
        "interpreter": {
            "hash": "f319a99b0a7b1a1c7490b512c3d3c8ec0c34db03c4571d4259ee6d272d67f37c"
        }
    },
    "nbformat": 4,
    "nbformat_minor": 2
}